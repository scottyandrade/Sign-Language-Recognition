{
 "cells": [
  {
   "cell_type": "code",
   "execution_count": 1,
   "metadata": {},
   "outputs": [
    {
     "name": "stdout",
     "output_type": "stream",
     "text": [
      "OpenCV Version: 4.2.0\n"
     ]
    }
   ],
   "source": [
    "import sys # system functions (ie. exiting the program)\n",
    "import os # operating system functions (ie. path building on Windows vs. MacOs)\n",
    "import time # for time operations\n",
    "import uuid # for generating unique file names\n",
    "import math # math functions\n",
    "import time, datetime # date and time\n",
    "\n",
    "from IPython.display import display as ipydisplay, Image, clear_output, HTML # for interacting with the notebook better\n",
    "\n",
    "import numpy as np # matrix operations (ie. difference between two matricies)\n",
    "import cv2 # (OpenCV) computer vision functions (ie. tracking)\n",
    "(major_ver, minor_ver, subminor_ver) = (cv2.__version__).split('.')\n",
    "print('OpenCV Version: {}.{}.{}'.format(major_ver, minor_ver, subminor_ver))\n",
    "\n",
    "import matplotlib.pyplot as plt # (optional) for plotting and showing images inline\n",
    "%matplotlib inline"
   ]
  },
  {
   "cell_type": "code",
   "execution_count": 2,
   "metadata": {},
   "outputs": [],
   "source": [
    "# Color fixer from Jason\n",
    "def bgrtorgb(image):\n",
    "    return cv2.cvtColor(image.copy(), cv2.COLOR_BGR2RGB)"
   ]
  },
  {
   "cell_type": "code",
   "execution_count": 4,
   "metadata": {},
   "outputs": [],
   "source": [
    "def takePhoto(dt_string, filename, frame):\n",
    "    cv2.imwrite(os.path.join('Photos', dt_string, filename), frame)\n",
    "#     print(f'Captured: {filename}')"
   ]
  },
  {
   "cell_type": "code",
   "execution_count": 6,
   "metadata": {},
   "outputs": [
    {
     "ename": "SyntaxError",
     "evalue": "invalid syntax (<ipython-input-6-2573746472c4>, line 30)",
     "output_type": "error",
     "traceback": [
      "\u001b[1;36m  File \u001b[1;32m\"<ipython-input-6-2573746472c4>\"\u001b[1;36m, line \u001b[1;32m30\u001b[0m\n\u001b[1;33m    takePhoto(dt_string, f'{letter}-{photo_amount}.jpg', frame)\u001b[0m\n\u001b[1;37m                                                      ^\u001b[0m\n\u001b[1;31mSyntaxError\u001b[0m\u001b[1;31m:\u001b[0m invalid syntax\n"
     ]
    }
   ],
   "source": [
    "countdown = 3\n",
    "letter = 'a'\n",
    "\n",
    "# Create folder for files\n",
    "start = datetime.datetime.now()\n",
    "dt_string = start.strftime(\"%Y-%m-%d_%H-%M-%S\")\n",
    "os.mkdir(os.path.join('Photos', dt_string))\n",
    "\n",
    "# Begin capturing video\n",
    "video = cv2.VideoCapture(0)\n",
    "current = start\n",
    "backgroundIsTaken = False\n",
    "photo_amount = 0\n",
    "current_count = countdown\n",
    "while True:\n",
    "    # Read a new frame\n",
    "    success, frame = video.read()\n",
    "    if not success:\n",
    "        break\n",
    "        \n",
    "    # Display result\n",
    "    cv2.imshow(\"frame\", frame)\n",
    "    \n",
    "    if(current_count == 0):\n",
    "        if not backgroundIsTaken:\n",
    "            takePhoto(dt_string, 'background.jpg', frame)\n",
    "            backgroundIsTaken = True\n",
    "        else:\n",
    "            photo_amount = photo_amount + 1\n",
    "            takePhoto(dt_string, f'{letter}-{photo_amount}.jpg', frame)\n",
    "        current_count = countdown\n",
    "    \n",
    "    elif (datetime.datetime.now() - current).seconds == 1:\n",
    "        current = datetime.datetime.now()\n",
    "        print(current_count) \n",
    "        current_count = current_count - 1\n",
    "    \n",
    "    k = cv2.waitKey(1) & 0xff\n",
    "    if k == 27 or k == 113:# escape or q pressed, exit\n",
    "        print('Quitting.')\n",
    "        break\n",
    "\n",
    "cv2.destroyAllWindows()\n",
    "cv2.waitKey(1)\n",
    "video.release()"
   ]
  },
  {
   "cell_type": "code",
   "execution_count": null,
   "metadata": {},
   "outputs": [],
   "source": [
    "#pip install Pillow will get you Pil\n",
    "from PIL import Image, ImageFilter\n",
    "\n",
    "def imageprepare(argv):\n",
    "    \"\"\"\n",
    "    This function returns the pixel values.\n",
    "    The imput is a jpg file location.\n",
    "    \"\"\"\n",
    "    im = Image.open(argv).convert('L')\n",
    "    width = float(im.size[0])\n",
    "    height = float(im.size[1])\n",
    "    newImage = Image.new('L', (28, 28), (255))  # creates white canvas of 28x28 pixels\n",
    "\n",
    "    if width > height:  # check which dimension is bigger\n",
    "        # Width is bigger. Width becomes 20 pixels.\n",
    "        nheight = int(round((20.0 / width * height), 0))  # resize height according to ratio width\n",
    "        if (nheight == 0):  # rare case but minimum is 1 pixel\n",
    "            nheight = 1\n",
    "            # resize and sharpen\n",
    "        img = im.resize((20, nheight), Image.ANTIALIAS).filter(ImageFilter.SHARPEN)\n",
    "        wtop = int(round(((28 - nheight) / 2), 0))  # calculate horizontal position\n",
    "        newImage.paste(img, (4, wtop))  # paste resized image on white canvas\n",
    "    else:\n",
    "        # Height is bigger. Heigth becomes 20 pixels.\n",
    "        nwidth = int(round((20.0 / height * width), 0))  # resize width according to ratio height\n",
    "        if (nwidth == 0):  # rare case but minimum is 1 pixel\n",
    "            nwidth = 1\n",
    "            # resize and sharpen\n",
    "        img = im.resize((nwidth, 20), Image.ANTIALIAS).filter(ImageFilter.SHARPEN)\n",
    "        wleft = int(round(((28 - nwidth) / 2), 0))  # caculate vertical pozition\n",
    "        newImage.paste(img, (wleft, 4))  # paste resized image on white canvas\n",
    "\n",
    "    #Location to save the image    \n",
    "    newImage.save(r'C:\\Users\\scott\\OneDrive\\Desktop\\Computer-Vision-Basics-with-Python-Keras-and-OpenCV-master\\images\\scottychange.jpg')\n",
    "\n",
    "    tv = list(newImage.getdata())  # get pixel values\n",
    "\n",
    "    # normalize pixels to 0 and 1. 0 is pure white, 1 is pure black.\n",
    "    tva = [(255 - x) * 1.0 / 255.0 for x in tv]\n",
    "    print(tva) #Matrix value conversion\n",
    "    return tva\n",
    "\n",
    "x=imageprepare(r'C:\\Users\\scott\\OneDrive\\Desktop\\Computer-Vision-Basics-with-Python-Keras-and-OpenCV-master\\images\\Scotty.jpg')#file path here for image you want to change\n",
    "print(len(x))# mnist IMAGES are 28x28=784 pixels"
   ]
  }
 ],
 "metadata": {
  "kernelspec": {
   "display_name": "Python 3",
   "language": "python",
   "name": "python3"
  },
  "language_info": {
   "codemirror_mode": {
    "name": "ipython",
    "version": 3
   },
   "file_extension": ".py",
   "mimetype": "text/x-python",
   "name": "python",
   "nbconvert_exporter": "python",
   "pygments_lexer": "ipython3",
   "version": "3.5.6"
  }
 },
 "nbformat": 4,
 "nbformat_minor": 4
}
