{
 "cells": [
  {
   "cell_type": "code",
   "execution_count": 2,
   "metadata": {},
   "outputs": [],
   "source": [
    "#Based off Jason Chin's https://github.com/jrobchin/Computer-Vision-Basics-with-Python-Keras-and-OpenCV"
   ]
  },
  {
   "cell_type": "markdown",
   "metadata": {},
   "source": [
    "## *Imports*"
   ]
  },
  {
   "cell_type": "code",
   "execution_count": 48,
   "metadata": {},
   "outputs": [
    {
     "name": "stdout",
     "output_type": "stream",
     "text": [
      "OpenCV Version: 4.4.0\n",
      "Keras image data format: channels_last\n"
     ]
    }
   ],
   "source": [
    "import sys # system functions (ie. exiting the program)\n",
    "import os # operating system functions (ie. path building on Windows vs. MacOs)\n",
    "import time # for time operations\n",
    "import uuid # for generating unique file names\n",
    "import math # math functions\n",
    "\n",
    "from IPython.display import display as ipydisplay, clear_output, HTML # for interacting with the notebook better\n",
    "from PIL import Image\n",
    "\n",
    "import numpy as np # matrix operations (ie. difference between two matricies)\n",
    "import cv2 # (OpenCV) computer vision functions (ie. tracking)\n",
    "(major_ver, minor_ver, subminor_ver) = (cv2.__version__).split('.')\n",
    "\n",
    "import matplotlib.pyplot as plt # (optional) for plotting and showing images inline\n",
    "%matplotlib inline\n",
    "\n",
    "import keras # high level api to tensorflow (or theano, CNTK, etc.) and useful image preprocessing\n",
    "from keras import backend as K\n",
    "from keras.preprocessing.image import ImageDataGenerator, load_img, img_to_array\n",
    "from keras.models import Sequential, load_model, model_from_json\n",
    "from keras.layers import Dense, Dropout, Activation, Flatten\n",
    "from keras.layers import Conv2D, MaxPooling2D"
   ]
  },
  {
   "cell_type": "markdown",
   "metadata": {},
   "source": [
    "## *Constants*"
   ]
  },
  {
   "cell_type": "code",
   "execution_count": 49,
   "metadata": {},
   "outputs": [],
   "source": [
    "MODEL_PATH = os.path.join('model')\n",
    "MODEL_FILE = os.path.join(MODEL_PATH, 'signal_model.hdf5') # path to model weights and architechture file\n",
    "MODEL_HISTORY = os.path.join(MODEL_PATH, 'model_history.txt') # path to model training history"
   ]
  },
  {
   "cell_type": "markdown",
   "metadata": {},
   "source": [
    "## *Tracking*\n",
    "\n",
    "For this implementation we chose to use the Kernelized Correlation Filters (KCF) tracking since we worked with someone that has experience with it and it has error detection."
   ]
  },
  {
   "cell_type": "code",
   "execution_count": 25,
   "metadata": {},
   "outputs": [],
   "source": [
    "# Set up tracker.\n",
    "def setup_tracker(ttype):\n",
    "    tracker_types = ['BOOSTING', 'MIL', 'KCF', 'TLD', 'MEDIANFLOW', 'GOTURN']\n",
    "    tracker_type = tracker_types[ttype]\n",
    "\n",
    "    if tracker_type == 'BOOSTING':\n",
    "        tracker = cv2.TrackerBoosting_create()\n",
    "    if tracker_type == 'MIL':\n",
    "        tracker = cv2.TrackerMIL_create()\n",
    "    if tracker_type == 'KCF':\n",
    "        tracker = cv2.TrackerKCF_create()\n",
    "    if tracker_type == 'TLD':\n",
    "        tracker = cv2.TrackerTLD_create()\n",
    "    if tracker_type == 'MEDIANFLOW':\n",
    "        tracker = cv2.TrackerMedianFlow_create()\n",
    "    if tracker_type == 'GOTURN':\n",
    "        tracker = cv2.TrackerGOTURN_create()\n",
    "    \n",
    "    return tracker"
   ]
  },
  {
   "cell_type": "markdown",
   "metadata": {},
   "source": [
    "## *Sign Language Recognition*\n",
    "### Objective\n",
    "Use computer vision to track a user's hand to recognize Sign Language Hand Signs.\n",
    "\n",
    "### Extracting the subject\n",
    "\n",
    "The user is first extracted from the background to make tracking more effective and make it easier on the algorithm to recognize the signs.\n",
    "\n",
    "The first frame is taken as the background frame (or reset the it by pressing 'r'). Then the frame difference will be taken to figure out the hand sing.\n",
    "\n",
    "### Tracking the hand\n",
    "    \n",
    "A box is displayed that allows user to hit 't' to begin tracking. Everytime 's' is hit a screen capture of the cropped hand is saved.\n",
    "\n",
    "### Collecting data\n",
    "\n",
    "This network is trained on the mask to reduce dimensionality while sacrificing information stored in the colours of an image."
   ]
  },
  {
   "cell_type": "code",
   "execution_count": 50,
   "metadata": {},
   "outputs": [],
   "source": [
    "def data_collection(position, data_type):\n",
    "    classes = {\n",
    "        0: 'a',\n",
    "        1: 'b',\n",
    "        2: 'c',\n",
    "        3: 'd'\n",
    "    }\n",
    "\n",
    "    CURR_POSE = position\n",
    "    DATA = data_type\n",
    "\n",
    "    # Helper function for applying a mask to an array\n",
    "    def mask_array(array, imask):\n",
    "        if array.shape[:2] != imask.shape:\n",
    "            raise Exception(\"Shapes of input and imask are incompatible\")\n",
    "        output = np.zeros_like(array, dtype=np.uint8)\n",
    "        for i, row in enumerate(imask):\n",
    "            output[i, row] = array[i, row]\n",
    "        return output\n",
    "\n",
    "    # Begin capturing video\n",
    "    video = cv2.VideoCapture(0)\n",
    "    if not video.isOpened():\n",
    "        print(\"Could not open video\")\n",
    "        sys.exit()\n",
    "\n",
    "    # Read first frame\n",
    "    ok, frame = video.read()\n",
    "    if not ok:\n",
    "        print(\"Cannot read video\")\n",
    "        sys.exit()\n",
    "    # Use the first frame as an initial background frame\n",
    "    bg = frame.copy()\n",
    "\n",
    "    # Kernel for erosion and dilation of masks\n",
    "    kernel = np.ones((3,3),np.uint8)\n",
    "\n",
    "    # Tracking\n",
    "    # Bounding box -> (TopRightX, TopRightY, Width, Height)\n",
    "    bbox_initial = (70, 70, 200, 200)\n",
    "    bbox = bbox_initial\n",
    "    # Tracking status, -1 for not tracking, 0 for unsuccessful tracking, 1 for successful tracking\n",
    "    tracking = -1\n",
    "\n",
    "    # Text display positions\n",
    "    positions = {\n",
    "        'hand_pose': (15, 40),\n",
    "        'fps': (15, 20)\n",
    "    }\n",
    "\n",
    "    # Image count for file name\n",
    "    img_count = 0\n",
    "\n",
    "    # Capture, process, display loop    \n",
    "    while True:\n",
    "        # Read a new frame\n",
    "        ok, frame = video.read()\n",
    "        display = frame.copy()\n",
    "        if not ok:\n",
    "            break\n",
    "\n",
    "        # Start timer\n",
    "        timer = cv2.getTickCount()\n",
    "\n",
    "        # Processing\n",
    "        # First find the absolute difference between the two images\n",
    "        diff = cv2.absdiff(bg, frame)\n",
    "        mask = cv2.cvtColor(diff, cv2.COLOR_BGR2GRAY)\n",
    "        # Threshold the mask\n",
    "        th, thresh = cv2.threshold(mask, 10, 255, cv2.THRESH_BINARY)\n",
    "        # Opening, closing and dilation\n",
    "        opening = cv2.morphologyEx(thresh, cv2.MORPH_OPEN, kernel)\n",
    "        closing = cv2.morphologyEx(opening, cv2.MORPH_CLOSE, kernel)\n",
    "        img_dilation = cv2.dilate(closing, kernel, iterations=2)\n",
    "        # Get mask indexes\n",
    "        imask = img_dilation > 0\n",
    "        # Get foreground from mask\n",
    "        foreground = mask_array(frame, imask)\n",
    "        foreground_display = foreground.copy()\n",
    "\n",
    "        # If tracking is active, update the tracker\n",
    "        if tracking != -1:\n",
    "            tracking, bbox = tracker.update(foreground)\n",
    "            tracking = int(tracking)\n",
    "\n",
    "        # Use numpy array indexing to crop the foreground frame\n",
    "        hand_crop = img_dilation[int(bbox[1]):int(bbox[1]+bbox[3]), int(bbox[0]):int(bbox[0]+bbox[2])]\n",
    "\n",
    "        # Draw bounding box\n",
    "        p1 = (int(bbox[0]), int(bbox[1]))\n",
    "        p2 = (int(bbox[0] + bbox[2]), int(bbox[1] + bbox[3]))\n",
    "        cv2.rectangle(foreground_display, p1, p2, (0, 255, 0), 2, 1)\n",
    "        cv2.rectangle(display, p1, p2, (0, 255, 0), 2, 1)\n",
    "\n",
    "        # Calculate Frames per second (FPS)\n",
    "        fps = cv2.getTickFrequency() / (cv2.getTickCount() - timer)\n",
    "        # Display FPS on frame\n",
    "        cv2.putText(foreground_display, \"FPS : \" + str(int(fps)), positions['fps'], cv2.FONT_HERSHEY_SIMPLEX, 0.65, (50, 170, 50), 2)\n",
    "        cv2.putText(display, \"FPS : \" + str(int(fps)), positions['fps'], cv2.FONT_HERSHEY_SIMPLEX, 0.65, (50, 170, 50), 2)\n",
    "\n",
    "        # Display result\n",
    "        cv2.imshow(\"display\", display)\n",
    "        # Display diff\n",
    "        cv2.imshow(\"diff\", diff)\n",
    "        # Display thresh\n",
    "        cv2.imshow(\"thresh\", thresh)\n",
    "        # Display mask\n",
    "        cv2.imshow(\"img_dilation\", img_dilation)\n",
    "        try:\n",
    "            # Display hand_crop\n",
    "            cv2.imshow(\"hand_crop\", hand_crop)\n",
    "        except:\n",
    "            pass\n",
    "        # Display foreground_display\n",
    "        cv2.imshow(\"foreground_display\", foreground_display)\n",
    "\n",
    "        k = cv2.waitKey(1) & 0xff\n",
    "\n",
    "        if k == 27: break # ESC pressed\n",
    "        elif k == 114 or k == 112: \n",
    "            # r pressed\n",
    "            bg = frame.copy()\n",
    "            bbox = bbox_initial\n",
    "            tracking = -1\n",
    "        elif k == 116:\n",
    "            # t pressed\n",
    "            # Initialize tracker with first frame and bounding box\n",
    "            tracker = setup_tracker(2)\n",
    "            tracking = tracker.init(frame, bbox)\n",
    "        elif k == 115:\n",
    "            # s pressed\n",
    "            img_count += 1\n",
    "            fname = os.path.join(DATA, CURR_POSE, \"{}_{}.jpg\".format(CURR_POSE, img_count))\n",
    "            cv2.imwrite(fname, hand_crop)\n",
    "        elif k != 255: print(k)\n",
    "\n",
    "    cv2.destroyAllWindows()\n",
    "    video.release()"
   ]
  },
  {
   "cell_type": "code",
   "execution_count": 55,
   "metadata": {
    "scrolled": false
   },
   "outputs": [],
   "source": [
    "#test_data` or validation_data\n",
    "data_collection('a', 'training_data')"
   ]
  },
  {
   "cell_type": "markdown",
   "metadata": {},
   "source": [
    "### Building the Neural Network\n",
    "\n",
    "This is a  simple convolutional neural network containing three convolutional and max pooling layers."
   ]
  },
  {
   "cell_type": "code",
   "execution_count": 28,
   "metadata": {},
   "outputs": [],
   "source": [
    "model = Sequential()\n",
    "\n",
    "model.add(Conv2D(32, (3, 3), input_shape=(54, 54, 1)))\n",
    "model.add(Activation('relu'))\n",
    "model.add(MaxPooling2D(pool_size=(2, 2)))\n",
    "\n",
    "model.add(Conv2D(32, (3, 3)))\n",
    "model.add(Activation('relu'))\n",
    "model.add(MaxPooling2D(pool_size=(2, 2)))\n",
    "\n",
    "model.add(Conv2D(64, (3, 3)))\n",
    "model.add(Activation('relu'))\n",
    "model.add(MaxPooling2D(pool_size=(2, 2)))\n",
    "\n",
    "model.add(Flatten())\n",
    "model.add(Dense(64))\n",
    "model.add(Activation('relu'))\n",
    "model.add(Dropout(0.5))\n",
    "model.add(Dense(4))\n",
    "model.add(Activation('softmax'))\n",
    "\n",
    "model.compile(loss='categorical_crossentropy',\n",
    "              optimizer='adam',\n",
    "              metrics=['accuracy'])"
   ]
  },
  {
   "cell_type": "markdown",
   "metadata": {},
   "source": [
    "### Preparing Data for Training\n",
    "\n",
    "The keras data generator augments data, improving generalization of the model.\n",
    "\n",
    "The flow_from_directory() method prepares classification data according to file directories."
   ]
  },
  {
   "cell_type": "code",
   "execution_count": 46,
   "metadata": {},
   "outputs": [
    {
     "name": "stdout",
     "output_type": "stream",
     "text": [
      "Found 2008 images belonging to 5 classes.\n",
      "Found 194 images belonging to 5 classes.\n"
     ]
    }
   ],
   "source": [
    "batch_size = 16\n",
    "\n",
    "training_datagen = ImageDataGenerator(\n",
    "    rotation_range=50,\n",
    "    width_shift_range=0.1,\n",
    "    height_shift_range=0.1,\n",
    "    shear_range=0.2,\n",
    "    zoom_range=0.2,\n",
    "    horizontal_flip=True,\n",
    "    fill_mode='nearest'\n",
    ")\n",
    "\n",
    "validation_datagen = ImageDataGenerator(zoom_range=0.2, rotation_range=10)\n",
    "\n",
    "training_generator = training_datagen.flow_from_directory(\n",
    "    'training_data',\n",
    "    target_size=(54, 54),\n",
    "    batch_size=batch_size,\n",
    "    color_mode='grayscale'\n",
    ")\n",
    "\n",
    "validation_generator = validation_datagen.flow_from_directory(\n",
    "    'validation_data',\n",
    "    target_size=(54, 54),\n",
    "    batch_size=batch_size,\n",
    "    color_mode='grayscale'\n",
    ")"
   ]
  },
  {
   "cell_type": "markdown",
   "metadata": {},
   "source": [
    "### Training"
   ]
  },
  {
   "cell_type": "code",
   "execution_count": null,
   "metadata": {},
   "outputs": [],
   "source": [
    "model.fit_generator(\n",
    "    generator=training_generator,\n",
    "    steps_per_epoch=2000 // batch_size,\n",
    "    epochs=50,\n",
    "    verbose=1,\n",
    "    validation_data=validation_generator,\n",
    "    validation_steps=200 // batch_size,\n",
    "    workers=8,\n",
    ")"
   ]
  },
  {
   "cell_type": "markdown",
   "metadata": {},
   "source": [
    "### Plotting Model History"
   ]
  },
  {
   "cell_type": "code",
   "execution_count": 47,
   "metadata": {
    "scrolled": true
   },
   "outputs": [
    {
     "data": {
      "text/plain": [
       "[<matplotlib.lines.Line2D at 0x14f812f6fd0>]"
      ]
     },
     "execution_count": 47,
     "metadata": {},
     "output_type": "execute_result"
    },
    {
     "data": {
      "image/png": "[encoded data removed]",
      "text/plain": [
       "<Figure size 432x288 with 1 Axes>"
      ]
     },
     "metadata": {
      "needs_background": "light"
     },
     "output_type": "display_data"
    },
    {
     "data": {
      "image/png": "[encoded data removed]",
      "text/plain": [
       "<Figure size 432x288 with 1 Axes>"
      ]
     },
     "metadata": {
      "needs_background": "light"
     },
     "output_type": "display_data"
    },
    {
     "data": {
      "image/png": "[encoded data removed]",
      "text/plain": [
       "<Figure size 432x288 with 1 Axes>"
      ]
     },
     "metadata": {
      "needs_background": "light"
     },
     "output_type": "display_data"
    },
    {
     "data": {
      "image/png": "[encoded data removed]",
      "text/plain": [
       "<Figure size 432x288 with 1 Axes>"
      ]
     },
     "metadata": {
      "needs_background": "light"
     },
     "output_type": "display_data"
    }
   ],
   "source": [
    "import re\n",
    "with open(MODEL_HISTORY) as history_file:\n",
    "    history = history_file.read()\n",
    "\n",
    "data = {}\n",
    "\n",
    "data['acc'] = re.findall(' acc: ([0-9]+\\.[0-9]+)', history)\n",
    "data['loss'] = re.findall(' loss: ([0-9]+\\.[0-9]+)', history)\n",
    "data['val_acc'] = re.findall(' val_acc: ([0-9]+\\.[0-9]+)', history)\n",
    "data['val_loss'] = re.findall(' val_loss: ([0-9]+\\.[0-9]+)', history)\n",
    "\n",
    "for key, values in data.items():\n",
    "    for i, val in enumerate(values):\n",
    "        values[i] = float(val)\n",
    "\n",
    "plt.figure()\n",
    "plt.title(\"Training Loss\")\n",
    "plt.xlabel(\"Epoch #\")\n",
    "plt.ylabel(\"Loss\")\n",
    "plt.plot(data['loss'])\n",
    "\n",
    "\n",
    "plt.figure()\n",
    "plt.title(\"Training Accuracy\")\n",
    "plt.xlabel(\"Epoch #\")\n",
    "plt.ylabel(\"Accuracy\")\n",
    "plt.plot(data['acc'])\n",
    "\n",
    "\n",
    "plt.figure()\n",
    "plt.title(\"Validation Loss\")\n",
    "plt.xlabel(\"Epoch #\")\n",
    "plt.ylabel(\"Loss\")\n",
    "plt.plot(data['val_loss'])\n",
    "\n",
    "\n",
    "plt.figure()\n",
    "plt.title(\"Validation Accuracy\")\n",
    "plt.xlabel(\"Epoch #\")\n",
    "plt.ylabel(\"Accuracy\")\n",
    "plt.plot(data['val_acc'])"
   ]
  },
  {
   "cell_type": "code",
   "execution_count": 43,
   "metadata": {
    "collapsed": true
   },
   "outputs": [],
   "source": [
    "# model.save(\"signal_model.hdf5\")"
   ]
  }
 ],
 "metadata": {
  "kernelspec": {
   "display_name": "Python 3",
   "language": "python",
   "name": "python3"
  },
  "language_info": {
   "codemirror_mode": {
    "name": "ipython",
    "version": 3
   },
   "file_extension": ".py",
   "mimetype": "text/x-python",
   "name": "python",
   "nbconvert_exporter": "python",
   "pygments_lexer": "ipython3",
   "version": "3.8.2"
  }
 },
 "nbformat": 4,
 "nbformat_minor": 2
}
