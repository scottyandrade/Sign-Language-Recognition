{
 "cells": [
  {
   "cell_type": "code",
   "execution_count": 1,
   "metadata": {},
   "outputs": [
    {
     "name": "stdout",
     "output_type": "stream",
     "text": [
      "OpenCV Version: 4.2.0\n"
     ]
    }
   ],
   "source": [
    "import sys # system functions (ie. exiting the program)\n",
    "import os # operating system functions (ie. path building on Windows vs. MacOs)\n",
    "import time # for time operations\n",
    "import uuid # for generating unique file names\n",
    "import math # math functions\n",
    "import time, datetime # date and time\n",
    "\n",
    "from IPython.display import display as ipydisplay, Image, clear_output, HTML # for interacting with the notebook better\n",
    "\n",
    "import numpy as np # matrix operations (ie. difference between two matricies)\n",
    "import cv2 # (OpenCV) computer vision functions (ie. tracking)\n",
    "(major_ver, minor_ver, subminor_ver) = (cv2.__version__).split('.')\n",
    "print('OpenCV Version: {}.{}.{}'.format(major_ver, minor_ver, subminor_ver))\n",
    "\n",
    "import matplotlib.pyplot as plt # (optional) for plotting and showing images inline\n",
    "%matplotlib inline"
   ]
  },
  {
   "cell_type": "code",
   "execution_count": 2,
   "metadata": {},
   "outputs": [],
   "source": [
    "# Color fixer from Jason\n",
    "def bgrtorgb(image):\n",
    "    return cv2.cvtColor(image.copy(), cv2.COLOR_BGR2RGB)"
   ]
  },
  {
   "cell_type": "code",
   "execution_count": 3,
   "metadata": {},
   "outputs": [],
   "source": [
    "def takePhoto(dt_string, filename, frame):\n",
    "    cv2.imwrite(os.path.join('Photos', dt_string, filename), frame)\n",
    "#     print(f'Captured: {filename}')"
   ]
  },
  {
   "cell_type": "code",
   "execution_count": 10,
   "metadata": {},
   "outputs": [],
   "source": [
    "IMAGES_FOLDER = os.path.join('images')"
   ]
  },
  {
   "cell_type": "code",
   "execution_count": 12,
   "metadata": {},
   "outputs": [
    {
     "name": "stdout",
     "output_type": "stream",
     "text": [
      "File names\n",
      "File namescotty\n"
     ]
    }
   ],
   "source": [
    "video = cv2.VideoCapture(0)\n",
    "\n",
    "while True:\n",
    "    # Read a new frame\n",
    "    success, frame = video.read()\n",
    "    if not success:\n",
    "        # Frame not successfully read from video capture\n",
    "        break\n",
    "        \n",
    "    # Display result\n",
    "    cv2.imshow(\"frame\", frame)\n",
    "    \n",
    "    k = cv2.waitKey(1) & 0xff\n",
    "    if k == 27:# escape pressed \n",
    "        break\n",
    "    elif k == 115: # s pressed\n",
    "        fname = input(\"File name\")\n",
    "        cv2.imwrite(os.path.join(IMAGES_FOLDER, '{}.jpg'.format(fname)), frame)\n",
    "        \n",
    "cv2.destroyAllWindows()\n",
    "video.release()"
   ]
  },
  {
   "cell_type": "code",
   "execution_count": 7,
   "metadata": {},
   "outputs": [
    {
     "ename": "SyntaxError",
     "evalue": "invalid syntax (<ipython-input-7-2573746472c4>, line 30)",
     "output_type": "error",
     "traceback": [
      "\u001b[1;36m  File \u001b[1;32m\"<ipython-input-7-2573746472c4>\"\u001b[1;36m, line \u001b[1;32m30\u001b[0m\n\u001b[1;33m    takePhoto(dt_string, f'{letter}-{photo_amount}.jpg', frame)\u001b[0m\n\u001b[1;37m                                                      ^\u001b[0m\n\u001b[1;31mSyntaxError\u001b[0m\u001b[1;31m:\u001b[0m invalid syntax\n"
     ]
    }
   ],
   "source": [
    "countdown = 3\n",
    "letter = 'a'\n",
    "\n",
    "# Create folder for files\n",
    "start = datetime.datetime.now()\n",
    "dt_string = start.strftime(\"%Y-%m-%d_%H-%M-%S\")\n",
    "os.mkdir(os.path.join('Photos', dt_string))\n",
    "\n",
    "# Begin capturing video\n",
    "video = cv2.VideoCapture(0)\n",
    "current = start\n",
    "backgroundIsTaken = False\n",
    "photo_amount = 0\n",
    "current_count = countdown\n",
    "while True:\n",
    "    # Read a new frame\n",
    "    success, frame = video.read()\n",
    "    if not success:\n",
    "        break\n",
    "        \n",
    "    # Display result\n",
    "    cv2.imshow(\"frame\", frame)\n",
    "    \n",
    "    if(current_count == 0):\n",
    "        if not backgroundIsTaken:\n",
    "            takePhoto(dt_string, 'background.jpg', frame)\n",
    "            backgroundIsTaken = True\n",
    "        else:\n",
    "            photo_amount = photo_amount + 1\n",
    "            takePhoto(dt_string, f'{letter}-{photo_amount}.jpg', frame)\n",
    "        current_count = countdown\n",
    "    \n",
    "    elif (datetime.datetime.now() - current).seconds == 1:\n",
    "        current = datetime.datetime.now()\n",
    "        print(current_count) \n",
    "        current_count = current_count - 1\n",
    "    \n",
    "    k = cv2.waitKey(1) & 0xff\n",
    "    if k == 27 or k == 113:# escape or q pressed, exit\n",
    "        print('Quitting.')\n",
    "        break\n",
    "\n",
    "cv2.destroyAllWindows()\n",
    "cv2.waitKey(1)\n",
    "video.release()"
   ]
  },
  {
   "cell_type": "code",
   "execution_count": 11,
   "metadata": {},
   "outputs": [],
   "source": [
    "# Image comparison\n",
    "imageA = cv2.imread(os.path.join('Photos', dt_string, 'background.jpg'))\n",
    "imageB = cv2.imread(os.path.join('Photos', dt_string, 'a-1.jpg'))\n",
    " \n",
    "# convert the images to grayscale\n",
    "grayA = cv2.cvtColor(imageA, cv2.COLOR_BGR2GRAY)\n",
    "grayB = cv2.cvtColor(imageB, cv2.COLOR_BGR2GRAY)\n",
    "\n",
    "(score, diff) = compare_ssim(grayA, grayB, full=True)\n",
    "diff = (diff * 255).astype(\"uint8\")"
   ]
  },
  {
   "cell_type": "code",
   "execution_count": 17,
   "metadata": {},
   "outputs": [],
   "source": [
    "cv2.imshow(\"Original\", grayA)\n",
    "cv2.waitKey(0)\n",
    "cv2.destroyAllWindows()"
   ]
  },
  {
   "cell_type": "code",
   "execution_count": 6,
   "metadata": {},
   "outputs": [
    {
     "name": "stdout",
     "output_type": "stream",
     "text": [
      "[0.0, 0.0, 0.0, 0.0, 0.0, 0.0, 0.0, 0.0, 0.0, 0.0, 0.0, 0.0, 0.0, 0.0, 0.0, 0.0, 0.0, 0.0, 0.0, 0.0, 0.0, 0.0, 0.0, 0.0, 0.0, 0.0, 0.0, 0.0, 0.0, 0.0, 0.0, 0.0, 0.0, 0.0, 0.0, 0.0, 0.0, 0.0, 0.0, 0.0, 0.0, 0.0, 0.0, 0.0, 0.0, 0.0, 0.0, 0.0, 0.0, 0.0, 0.0, 0.0, 0.0, 0.0, 0.0, 0.0, 0.0, 0.0, 0.0, 0.0, 0.0, 0.0, 0.0, 0.0, 0.0, 0.0, 0.0, 0.0, 0.0, 0.0, 0.0, 0.0, 0.0, 0.0, 0.0, 0.0, 0.0, 0.0, 0.0, 0.0, 0.0, 0.0, 0.0, 0.0, 0.0, 0.0, 0.0, 0.0, 0.0, 0.0, 0.0, 0.0, 0.0, 0.0, 0.0, 0.0, 0.0, 0.0, 0.0, 0.0, 0.0, 0.0, 0.0, 0.0, 0.0, 0.0, 0.0, 0.0, 0.0, 0.0, 0.0, 0.0, 0.0, 0.0, 0.0, 0.0, 0.0, 0.0, 0.0, 0.0, 0.0, 0.0, 0.0, 0.0, 0.0, 0.0, 0.0, 0.0, 0.0, 0.0, 0.0, 0.0, 0.0, 0.0, 0.0, 0.0, 0.0, 0.0, 0.0, 0.0, 0.0, 0.0, 0.0, 0.0, 0.0, 0.0, 0.0, 0.0, 0.0, 0.0, 0.0, 0.0, 0.0, 0.0, 0.0, 0.0, 0.0, 0.0, 0.0, 0.0, 0.0, 0.0, 0.0, 0.0, 0.0, 0.0, 0.0, 0.0, 0.0, 0.0, 0.0, 0.0, 0.8941176470588236, 0.8431372549019608, 0.3176470588235294, 0.3176470588235294, 0.3058823529411765, 0.2980392156862745, 0.29411764705882354, 0.28627450980392155, 0.2980392156862745, 0.3058823529411765, 0.24313725490196078, 0.24313725490196078, 0.2823529411764706, 0.30196078431372547, 0.3215686274509804, 0.3215686274509804, 0.3254901960784314, 0.32941176470588235, 0.32941176470588235, 0.3333333333333333, 0.0, 0.0, 0.0, 0.0, 0.0, 0.0, 0.0, 0.0, 0.9529411764705882, 1.0, 0.27058823529411763, 0.24313725490196078, 0.30196078431372547, 0.2784313725490196, 0.2784313725490196, 0.26666666666666666, 0.22745098039215686, 0.0, 0.023529411764705882, 0.21568627450980393, 0.43529411764705883, 0.26666666666666666, 0.24313725490196078, 0.30980392156862746, 0.3058823529411765, 0.3215686274509804, 0.3137254901960784, 0.3176470588235294, 0.0, 0.0, 0.0, 0.0, 0.0, 0.0, 0.0, 0.0, 0.7450980392156863, 0.803921568627451, 0.36470588235294116, 0.22745098039215686, 0.2784313725490196, 0.26666666666666666, 0.27450980392156865, 0.2, 0.36470588235294116, 0.7294117647058823, 1.0, 1.0, 1.0, 0.807843137254902, 0.2627450980392157, 0.30980392156862746, 0.30980392156862746, 0.3176470588235294, 0.3176470588235294, 0.30980392156862746, 0.0, 0.0, 0.0, 0.0, 0.0, 0.0, 0.0, 0.0, 0.34901960784313724, 0.18823529411764706, 0.23137254901960785, 0.2627450980392157, 0.25098039215686274, 0.25098039215686274, 0.22745098039215686, 0.17647058823529413, 0.8117647058823529, 0.7725490196078432, 0.5568627450980392, 0.39215686274509803, 0.3607843137254902, 0.6980392156862745, 0.24705882352941178, 0.27058823529411763, 0.3254901960784314, 0.3215686274509804, 0.3176470588235294, 0.30980392156862746, 0.0, 0.0, 0.0, 0.0, 0.0, 0.0, 0.0, 0.0, 0.34509803921568627, 0.30980392156862746, 0.26666666666666666, 0.23137254901960785, 0.20784313725490197, 0.21176470588235294, 0.13725490196078433, 0.2980392156862745, 0.6941176470588235, 0.043137254901960784, 0.12941176470588237, 0.1568627450980392, 0.12156862745098039, 0.43137254901960786, 0.6, 0.24313725490196078, 0.3568627450980392, 0.3411764705882353, 0.33725490196078434, 0.3176470588235294, 0.0, 0.0, 0.0, 0.0, 0.0, 0.0, 0.0, 0.0, 0.35294117647058826, 0.3176470588235294, 0.2549019607843137, 0.17254901960784313, 0.09803921568627451, 0.06666666666666667, 0.0196078431372549, 0.2549019607843137, 0.7450980392156863, 0.8313725490196079, 0.7647058823529411, 0.7058823529411765, 1.0, 0.7411764705882353, 0.6235294117647059, 0.12549019607843137, 0.23921568627450981, 0.20392156862745098, 0.2, 0.29411764705882354, 0.0, 0.0, 0.0, 0.0, 0.0, 0.0, 0.0, 0.0, 0.34509803921568627, 0.27450980392156865, 0.20392156862745098, 0.027450980392156862, 0.0, 0.0, 0.0, 0.08235294117647059, 0.4980392156862745, 0.5647058823529412, 0.4, 0.3843137254901961, 0.5843137254901961, 0.35294117647058826, 0.41568627450980394, 0.30980392156862746, 0.41568627450980394, 0.47058823529411764, 0.5333333333333333, 0.5803921568627451, 0.0, 0.0, 0.0, 0.0, 0.0, 0.0, 0.0, 0.0, 0.4196078431372549, 0.2823529411764706, 0.3215686274509804, 0.050980392156862744, 0.0, 0.0, 0.0, 0.0, 0.5137254901960784, 0.16470588235294117, 0.47058823529411764, 0.596078431372549, 0.23137254901960785, 0.4392156862745098, 1.0, 1.0, 1.0, 1.0, 1.0, 0.8784313725490196, 0.0, 0.0, 0.0, 0.0, 0.0, 0.0, 0.0, 0.0, 0.8627450980392157, 1.0, 1.0, 0.5176470588235295, 0.0, 0.14901960784313725, 0.07058823529411765, 0.0, 0.6705882352941176, 0.34509803921568627, 0.615686274509804, 0.6705882352941176, 0.4196078431372549, 0.4980392156862745, 0.38823529411764707, 0.07450980392156863, 0.2235294117647059, 0.0, 0.0, 0.32941176470588235, 0.0, 0.0, 0.0, 0.0, 0.0, 0.0, 0.0, 0.0, 0.7529411764705882, 0.4666666666666667, 0.41568627450980394, 0.12549019607843137, 0.0, 0.0, 0.0, 0.0, 0.7019607843137254, 0.5725490196078431, 0.6274509803921569, 0.6627450980392157, 0.6549019607843137, 0.5568627450980392, 0.047058823529411764, 0.06274509803921569, 0.5607843137254902, 0.5176470588235295, 0.4627450980392157, 0.5607843137254902, 0.0, 0.0, 0.0, 0.0, 0.0, 0.0, 0.0, 0.0, 0.6392156862745098, 0.4235294117647059, 0.44313725490196076, 0.16862745098039217, 0.10980392156862745, 0.0, 0.1803921568627451, 0.7254901960784313, 0.9215686274509803, 0.6235294117647059, 0.6980392156862745, 0.7019607843137254, 0.7607843137254902, 0.9137254901960784, 1.0, 0.1803921568627451, 0.32941176470588235, 0.23921568627450981, 0.043137254901960784, 0.4, 0.0, 0.0, 0.0, 0.0, 0.0, 0.0, 0.0, 0.0, 0.5411764705882353, 0.0, 0.0, 0.15294117647058825, 0.09803921568627451, 0.0, 0.803921568627451, 1.0, 0.8588235294117647, 0.25098039215686274, 0.6784313725490196, 0.7215686274509804, 0.4823529411764706, 0.8941176470588236, 1.0, 0.6392156862745098, 0.13725490196078433, 0.0, 0.2, 0.32941176470588235, 0.0, 0.0, 0.0, 0.0, 0.0, 0.0, 0.0, 0.0, 0.5843137254901961, 0.1411764705882353, 0.08235294117647059, 0.058823529411764705, 0.2980392156862745, 0.4627450980392157, 1.0, 1.0, 0.996078431372549, 0.6313725490196078, 0.3843137254901961, 0.6313725490196078, 0.9215686274509803, 1.0, 1.0, 1.0, 0.8941176470588236, 0.5294117647058824, 0.5019607843137255, 0.39215686274509803, 0.0, 0.0, 0.0, 0.0, 0.0, 0.0, 0.0, 0.0, 0.8196078431372549, 0.4235294117647059, 0.3411764705882353, 0.6274509803921569, 1.0, 0.9450980392156862, 1.0, 1.0, 1.0, 1.0, 1.0, 1.0, 1.0, 0.9803921568627451, 1.0, 0.9490196078431372, 0.8196078431372549, 0.8862745098039215, 0.8823529411764706, 0.7176470588235294, 0.0, 0.0, 0.0, 0.0, 0.0, 0.0, 0.0, 0.0, 0.9686274509803922, 0.9803921568627451, 0.9019607843137255, 0.8901960784313725, 0.8980392156862745, 0.9019607843137255, 0.9333333333333333, 0.9647058823529412, 0.9725490196078431, 0.9490196078431372, 0.9686274509803922, 0.9686274509803922, 0.9490196078431372, 0.9607843137254902, 0.984313725490196, 0.9215686274509803, 0.8901960784313725, 0.8862745098039215, 0.9019607843137255, 0.8901960784313725, 0.0, 0.0, 0.0, 0.0, 0.0, 0.0, 0.0, 0.0, 0.0, 0.0, 0.0, 0.0, 0.0, 0.0, 0.0, 0.0, 0.0, 0.0, 0.0, 0.0, 0.0, 0.0, 0.0, 0.0, 0.0, 0.0, 0.0, 0.0, 0.0, 0.0, 0.0, 0.0, 0.0, 0.0, 0.0, 0.0, 0.0, 0.0, 0.0, 0.0, 0.0, 0.0, 0.0, 0.0, 0.0, 0.0, 0.0, 0.0, 0.0, 0.0, 0.0, 0.0, 0.0, 0.0, 0.0, 0.0, 0.0, 0.0, 0.0, 0.0, 0.0, 0.0, 0.0, 0.0, 0.0, 0.0, 0.0, 0.0, 0.0, 0.0, 0.0, 0.0, 0.0, 0.0, 0.0, 0.0, 0.0, 0.0, 0.0, 0.0, 0.0, 0.0, 0.0, 0.0, 0.0, 0.0, 0.0, 0.0, 0.0, 0.0, 0.0, 0.0, 0.0, 0.0, 0.0, 0.0, 0.0, 0.0, 0.0, 0.0, 0.0, 0.0, 0.0, 0.0, 0.0, 0.0, 0.0, 0.0, 0.0, 0.0, 0.0, 0.0, 0.0, 0.0, 0.0, 0.0, 0.0, 0.0, 0.0, 0.0, 0.0, 0.0, 0.0, 0.0, 0.0, 0.0, 0.0, 0.0, 0.0, 0.0, 0.0, 0.0, 0.0, 0.0, 0.0, 0.0, 0.0, 0.0, 0.0, 0.0, 0.0, 0.0, 0.0, 0.0, 0.0, 0.0, 0.0, 0.0, 0.0, 0.0, 0.0, 0.0, 0.0, 0.0, 0.0, 0.0, 0.0, 0.0, 0.0, 0.0, 0.0, 0.0, 0.0, 0.0, 0.0, 0.0, 0.0, 0.0, 0.0, 0.0, 0.0, 0.0, 0.0, 0.0, 0.0, 0.0, 0.0, 0.0, 0.0, 0.0, 0.0, 0.0, 0.0, 0.0, 0.0, 0.0, 0.0, 0.0, 0.0, 0.0, 0.0, 0.0, 0.0, 0.0, 0.0, 0.0, 0.0, 0.0, 0.0, 0.0]\n",
      "784\n"
     ]
    }
   ],
   "source": [
    "#pip install Pillow will get you Pil\n",
    "from PIL import Image, ImageFilter\n",
    "\n",
    "def imageprepare(argv):\n",
    "    \"\"\"\n",
    "    This function returns the pixel values.\n",
    "    The imput is a jpg file location.\n",
    "    \"\"\"\n",
    "    im = Image.open(argv).convert('L')\n",
    "    width = float(im.size[0])\n",
    "    height = float(im.size[1])\n",
    "    newImage = Image.new('L', (28, 28), (255))  # creates white canvas of 28x28 pixels\n",
    "\n",
    "    if width > height:  # check which dimension is bigger\n",
    "        # Width is bigger. Width becomes 20 pixels.\n",
    "        nheight = int(round((20.0 / width * height), 0))  # resize height according to ratio width\n",
    "        if (nheight == 0):  # rare case but minimum is 1 pixel\n",
    "            nheight = 1\n",
    "            # resize and sharpen\n",
    "        img = im.resize((20, nheight), Image.ANTIALIAS).filter(ImageFilter.SHARPEN)\n",
    "        wtop = int(round(((28 - nheight) / 2), 0))  # calculate horizontal position\n",
    "        newImage.paste(img, (4, wtop))  # paste resized image on white canvas\n",
    "    else:\n",
    "        # Height is bigger. Heigth becomes 20 pixels.\n",
    "        nwidth = int(round((20.0 / height * width), 0))  # resize width according to ratio height\n",
    "        if (nwidth == 0):  # rare case but minimum is 1 pixel\n",
    "            nwidth = 1\n",
    "            # resize and sharpen\n",
    "        img = im.resize((nwidth, 20), Image.ANTIALIAS).filter(ImageFilter.SHARPEN)\n",
    "        wleft = int(round(((28 - nwidth) / 2), 0))  # caculate vertical pozition\n",
    "        newImage.paste(img, (wleft, 4))  # paste resized image on white canvas\n",
    "\n",
    "    #Location to save the image    v\n",
    "    newImage.save(r'C:\\Users\\scott\\OneDrive\\Desktop\\Computer-Vision-Basics-with-Python-Keras-and-OpenCV-master\\images\\scottychange.jpg')\n",
    "\n",
    "    tv = list(newImage.getdata())  # get pixel values\n",
    "\n",
    "    # normalize pixels to 0 and 1. 0 is pure white, 1 is pure black.\n",
    "    tva = [(255 - x) * 1.0 / 255.0 for x in tv]\n",
    "    print(tva) #Matrix value conversion\n",
    "    return tva\n",
    "\n",
    "x=imageprepare(r'C:\\Users\\scott\\OneDrive\\Desktop\\Computer-Vision-Basics-with-Python-Keras-and-OpenCV-master\\images\\Scotty.jpg')#file path here for image you want to change\n",
    "print(len(x))# mnist IMAGES are 28x28=784 pixels"
   ]
  },
  {
   "cell_type": "code",
   "execution_count": null,
   "metadata": {},
   "outputs": [],
   "source": []
  }
 ],
 "metadata": {
  "kernelspec": {
   "display_name": "Python 3",
   "language": "python",
   "name": "python3"
  },
  "language_info": {
   "codemirror_mode": {
    "name": "ipython",
    "version": 3
   },
   "file_extension": ".py",
   "mimetype": "text/x-python",
   "name": "python",
   "nbconvert_exporter": "python",
   "pygments_lexer": "ipython3",
   "version": "3.5.6"
  }
 },
 "nbformat": 4,
 "nbformat_minor": 4
}
